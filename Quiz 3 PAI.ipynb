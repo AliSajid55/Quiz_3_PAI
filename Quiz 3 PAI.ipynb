{
  "nbformat": 4,
  "nbformat_minor": 0,
  "metadata": {
    "colab": {
      "provenance": [],
      "gpuType": "T4"
    },
    "kernelspec": {
      "name": "python3",
      "display_name": "Python 3"
    },
    "language_info": {
      "name": "python"
    },
    "accelerator": "GPU"
  },
  "cells": [
    {
      "cell_type": "code",
      "execution_count": 1,
      "metadata": {
        "colab": {
          "base_uri": "https://localhost:8080/"
        },
        "id": "Qd_fAA6N8e3f",
        "outputId": "6e430b12-7c86-4937-a254-b734c63762b2"
      },
      "outputs": [
        {
          "output_type": "stream",
          "name": "stderr",
          "text": [
            "[nltk_data] Downloading package punkt_tab to /root/nltk_data...\n",
            "[nltk_data]   Unzipping tokenizers/punkt_tab.zip.\n",
            "[nltk_data] Downloading package punkt to /root/nltk_data...\n",
            "[nltk_data]   Unzipping tokenizers/punkt.zip.\n",
            "[nltk_data] Downloading package stopwords to /root/nltk_data...\n",
            "[nltk_data]   Unzipping corpora/stopwords.zip.\n",
            "[nltk_data] Downloading package wordnet to /root/nltk_data...\n",
            "[nltk_data] Downloading package omw-1.4 to /root/nltk_data...\n"
          ]
        },
        {
          "output_type": "stream",
          "name": "stdout",
          "text": [
            "Dataset columns: Index(['news', 'type'], dtype='object')\n",
            "Overall Accuracy: 0.9258426966292135\n",
            "Classification Report:\n",
            "                precision    recall  f1-score   support\n",
            "\n",
            "     business       0.87      0.97      0.92       115\n",
            "entertainment       0.95      0.86      0.91        72\n",
            "     politics       0.95      0.91      0.93        76\n",
            "        sport       0.91      1.00      0.95       102\n",
            "         tech       1.00      0.85      0.92        80\n",
            "\n",
            "     accuracy                           0.93       445\n",
            "    macro avg       0.94      0.92      0.92       445\n",
            " weighted avg       0.93      0.93      0.93       445\n",
            "\n"
          ]
        }
      ],
      "source": [
        "import pandas as pd\n",
        "import re\n",
        "from nltk.tokenize import word_tokenize, sent_tokenize\n",
        "from nltk.corpus import stopwords\n",
        "from nltk.stem import WordNetLemmatizer\n",
        "from sklearn.feature_extraction.text import CountVectorizer\n",
        "from sklearn.ensemble import RandomForestClassifier\n",
        "from sklearn.model_selection import train_test_split\n",
        "from sklearn.metrics import accuracy_score, classification_report\n",
        "import nltk\n",
        "nltk.download('punkt_tab')\n",
        "\n",
        "# Ensure necessary NLTK data packages are downloaded\n",
        "nltk.download('punkt')\n",
        "nltk.download('stopwords')\n",
        "nltk.download('wordnet')\n",
        "nltk.download('omw-1.4')\n",
        "\n",
        "# Load the dataset\n",
        "data_path = '/content/reviews_dataset.csv'\n",
        "data = pd.read_csv(data_path)\n",
        "\n",
        "# Inspect the dataset columns\n",
        "print(\"Dataset columns:\", data.columns)\n",
        "\n",
        "# Assuming the dataset contains 'news' and 'type' columns\n",
        "if 'news' not in data.columns or 'type' not in data.columns:\n",
        "    raise ValueError(\"Dataset must contain 'news' and 'type' columns\")\n",
        "\n",
        "# Preprocessing\n",
        "lemmatizer = WordNetLemmatizer()\n",
        "stop_words = set(stopwords.words('english'))\n",
        "\n",
        "def preprocess_text(text):\n",
        "    # Remove non-alphabetic characters\n",
        "    text = re.sub(r'[^a-zA-Z\\s]', '', text)\n",
        "\n",
        "    # Tokenize into words\n",
        "    try:\n",
        "        words = word_tokenize(text.lower())\n",
        "    except LookupError:\n",
        "        nltk.download('punkt')\n",
        "        words = word_tokenize(text.lower())\n",
        "\n",
        "    # Remove stop words and lemmatize\n",
        "    words = [lemmatizer.lemmatize(word) for word in words if word not in stop_words]\n",
        "\n",
        "    return ' '.join(words)\n",
        "\n",
        "# Apply preprocessing\n",
        "data['cleaned_text'] = data['news'].apply(preprocess_text)\n",
        "\n",
        "# Generate bigrams and trigrams using CountVectorizer\n",
        "vectorizer = CountVectorizer(ngram_range=(1, 3))  # Unigrams, Bigrams, Trigrams\n",
        "X = vectorizer.fit_transform(data['cleaned_text'])\n",
        "y = data['type']\n",
        "\n",
        "# Split the data into training and testing sets\n",
        "X_train, X_test, y_train, y_test = train_test_split(X, y, test_size=0.2, random_state=42)\n",
        "\n",
        "# Train the Random Forest Classifier\n",
        "rf_classifier = RandomForestClassifier(n_estimators=150, random_state=42)\n",
        "rf_classifier.fit(X_train, y_train)\n",
        "\n",
        "# Evaluate the model\n",
        "y_pred = rf_classifier.predict(X_test)\n",
        "\n",
        "# Calculate accuracy\n",
        "accuracy = accuracy_score(y_test, y_pred)\n",
        "print(\"Overall Accuracy:\", accuracy)\n",
        "\n",
        "# Generate classification report\n",
        "report = classification_report(y_test, y_pred, target_names=y.unique())\n",
        "print(\"Classification Report:\\n\", report)\n"
      ]
    }
  ]
}